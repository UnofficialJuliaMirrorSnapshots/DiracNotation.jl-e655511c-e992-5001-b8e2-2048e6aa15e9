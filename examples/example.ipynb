{
 "cells": [
  {
   "cell_type": "markdown",
   "metadata": {
    "toc": true
   },
   "source": [
    "<h1>Table of Contents<span class=\"tocSkip\"></span></h1>\n",
    "<div class=\"toc\" style=\"margin-top: 1em;\"><ul class=\"toc-item\"><li><span><a href=\"#DiracNotation.jl-sample\" data-toc-modified-id=\"DiracNotation.jl-sample-1\"><span class=\"toc-item-num\">1&nbsp;&nbsp;</span>DiracNotation.jl sample</a></span><ul class=\"toc-item\"><li><span><a href=\"#Basic-usage\" data-toc-modified-id=\"Basic-usage-1.1\"><span class=\"toc-item-num\">1.1&nbsp;&nbsp;</span>Basic usage</a></span></li><li><span><a href=\"#Qudit-system-and-Operator\" data-toc-modified-id=\"Qudit-system-and-Operator-1.2\"><span class=\"toc-item-num\">1.2&nbsp;&nbsp;</span>Qudit system and Operator</a></span></li><li><span><a href=\"#Precision\" data-toc-modified-id=\"Precision-1.3\"><span class=\"toc-item-num\">1.3&nbsp;&nbsp;</span>Precision</a></span></li><li><span><a href=\"#Disable-mathjax\" data-toc-modified-id=\"Disable-mathjax-1.4\"><span class=\"toc-item-num\">1.4&nbsp;&nbsp;</span>Disable mathjax</a></span></li><li><span><a href=\"#display-few-terms\" data-toc-modified-id=\"display-few-terms-1.5\"><span class=\"toc-item-num\">1.5&nbsp;&nbsp;</span>display few terms</a></span></li><li><span><a href=\"#newline\" data-toc-modified-id=\"newline-1.6\"><span class=\"toc-item-num\">1.6&nbsp;&nbsp;</span>newline</a></span></li><li><span><a href=\"#Restore-to-original-setting\" data-toc-modified-id=\"Restore-to-original-setting-1.7\"><span class=\"toc-item-num\">1.7&nbsp;&nbsp;</span>Restore to original setting</a></span></li></ul></li><li><span><a href=\"#QuantumOptics.jl\" data-toc-modified-id=\"QuantumOptics.jl-2\"><span class=\"toc-item-num\">2&nbsp;&nbsp;</span>QuantumOptics.jl</a></span><ul class=\"toc-item\"><li><span><a href=\"#Bra,--Ket-and-Operator\" data-toc-modified-id=\"Bra,--Ket-and-Operator-2.1\"><span class=\"toc-item-num\">2.1&nbsp;&nbsp;</span>Bra,  Ket and Operator</a></span></li><li><span><a href=\"#Composite-system\" data-toc-modified-id=\"Composite-system-2.2\"><span class=\"toc-item-num\">2.2&nbsp;&nbsp;</span>Composite system</a></span></li></ul></li></ul></div>"
   ]
  },
  {
   "cell_type": "code",
   "execution_count": 1,
   "metadata": {},
   "outputs": [
    {
     "name": "stdout",
     "output_type": "stream",
     "text": [
      "Julia Version 1.0.0\n",
      "Commit 5d4eaca0c9 (2018-08-08 20:58 UTC)\n",
      "Platform Info:\n",
      "  OS: Linux (x86_64-pc-linux-gnu)\n",
      "  CPU: Intel(R) Xeon(R) CPU           E5645  @ 2.40GHz\n",
      "  WORD_SIZE: 64\n",
      "  LIBM: libopenlibm\n",
      "  LLVM: libLLVM-6.0.0 (ORCJIT, westmere)\n"
     ]
    }
   ],
   "source": [
    "versioninfo()"
   ]
  },
  {
   "cell_type": "markdown",
   "metadata": {},
   "source": [
    "# DiracNotation.jl sample\n",
    "\n"
   ]
  },
  {
   "cell_type": "markdown",
   "metadata": {},
   "source": [
    "By using this package, matrix representation is changed into Dirac notation.\n",
    "\n",
    "## Basic usage\n",
    "\n",
    "In order to change display style, all you have to do is import this package."
   ]
  },
  {
   "cell_type": "code",
   "execution_count": 2,
   "metadata": {
    "ExecuteTime": {
     "end_time": "2018-09-15T17:19:59.532000+09:00",
     "start_time": "2018-09-15T08:19:59.423Z"
    }
   },
   "outputs": [],
   "source": [
    "using DiracNotation, LinearAlgebra, Random; Random.seed!(0);"
   ]
  },
  {
   "cell_type": "code",
   "execution_count": 3,
   "metadata": {
    "ExecuteTime": {
     "end_time": "2018-09-15T17:20:02.009000+09:00",
     "start_time": "2018-09-15T08:20:01.782Z"
    }
   },
   "outputs": [],
   "source": [
    "ket = normalize(rand(Complex{Float64}, 4)); bra = ket';"
   ]
  },
  {
   "cell_type": "code",
   "execution_count": 4,
   "metadata": {
    "ExecuteTime": {
     "end_time": "2018-09-15T17:20:04.171000+09:00",
     "start_time": "2018-09-15T08:20:02.697Z"
    },
    "scrolled": true
   },
   "outputs": [
    {
     "data": {
      "text/markdown": [
       "$|\\psi\\rangle = (0.633332+0.700005im)|00\\rangle+(0.12654+0.136354im)|01\\rangle+(0.214441+0.15646im)|10\\rangle+(0.0325272+0.0524946im)|11\\rangle\n",
       "$"
      ]
     },
     "metadata": {},
     "output_type": "display_data"
    }
   ],
   "source": [
    "dirac(ket)"
   ]
  },
  {
   "cell_type": "code",
   "execution_count": 5,
   "metadata": {
    "ExecuteTime": {
     "end_time": "2018-09-15T17:20:12.002000+09:00",
     "start_time": "2018-09-15T08:20:11.999Z"
    }
   },
   "outputs": [
    {
     "data": {
      "text/markdown": [
       "$\\langle\\psi| = (0.633332-0.700005im)\\langle00|+(0.12654-0.136354im)\\langle01|+(0.214441-0.15646im)\\langle10|+(0.0325272-0.0524946im)\\langle11|\n",
       "$"
      ]
     },
     "metadata": {},
     "output_type": "display_data"
    }
   ],
   "source": [
    "dirac(bra)"
   ]
  },
  {
   "cell_type": "code",
   "execution_count": 6,
   "metadata": {
    "ExecuteTime": {
     "end_time": "2018-09-15T17:20:35.471000+09:00",
     "start_time": "2018-09-15T08:20:35.469Z"
    }
   },
   "outputs": [
    {
     "data": {
      "text/markdown": [
       "$|\\psi\\rangle = (0.633332+0.700005im)|00\\rangle+(0.12654+0.136354im)|01\\rangle+(0.214441+0.15646im)|10\\rangle+(0.0325272+0.0524946im)|11\\rangle\n",
       "$"
      ]
     },
     "metadata": {},
     "output_type": "display_data"
    }
   ],
   "source": [
    "dirac(ket)"
   ]
  },
  {
   "cell_type": "code",
   "execution_count": 7,
   "metadata": {
    "ExecuteTime": {
     "end_time": "2018-09-15T17:20:36.769000+09:00",
     "start_time": "2018-09-15T08:20:36.542Z"
    },
    "scrolled": true
   },
   "outputs": [
    {
     "data": {
      "text/markdown": [
       "$\\hat{\\rho} = 0.361828|0\\rangle\\langle0|+0.585812|0\\rangle\\langle1|+0.973216|1\\rangle\\langle0|+0.539289|1\\rangle\\langle1|\n",
       "$"
      ]
     },
     "metadata": {},
     "output_type": "display_data"
    }
   ],
   "source": [
    "op = rand(2,2);\n",
    "dirac(op)"
   ]
  },
  {
   "cell_type": "markdown",
   "metadata": {},
   "source": [
    "## Qudit system and Operator"
   ]
  },
  {
   "cell_type": "markdown",
   "metadata": {},
   "source": [
    "7 dimensional state\n",
    "\n",
    "$| \\psi \\rangle \\in \\mathbb{C}^7$"
   ]
  },
  {
   "cell_type": "code",
   "execution_count": 8,
   "metadata": {
    "ExecuteTime": {
     "end_time": "2018-09-15T17:14:41.216000+09:00",
     "start_time": "2018-09-15T08:14:36.004Z"
    }
   },
   "outputs": [
    {
     "data": {
      "text/markdown": [
       "$|\\psi\\rangle = 0.141535|0\\rangle+0.495329|1\\rangle+0.0909162|2\\rangle+0.356754|3\\rangle+0.31345|4\\rangle+0.472596|5\\rangle+0.526764|6\\rangle\n",
       "$"
      ]
     },
     "metadata": {},
     "output_type": "display_data"
    }
   ],
   "source": [
    "dim = 7\n",
    "ket = normalize(rand(dim))\n",
    "dirac(ket, [dim])"
   ]
  },
  {
   "cell_type": "markdown",
   "metadata": {},
   "source": [
    "qubit-qutrit\n",
    "\n",
    "$| \\psi \\rangle \\in \\mathbb{C}^2 \\otimes \\mathbb{C}^3$"
   ]
  },
  {
   "cell_type": "code",
   "execution_count": 9,
   "metadata": {
    "ExecuteTime": {
     "end_time": "2018-09-15T17:14:41.255000+09:00",
     "start_time": "2018-09-15T08:14:36.007Z"
    }
   },
   "outputs": [
    {
     "data": {
      "text/markdown": [
       "$|\\psi\\rangle = 0.163106|00\\rangle-0.0869658|01\\rangle-0.446385|02\\rangle+0.848054|10\\rangle-0.0657909|11\\rangle+0.207483|12\\rangle\n",
       "$"
      ]
     },
     "metadata": {},
     "output_type": "display_data"
    }
   ],
   "source": [
    "dims = [2,3]\n",
    "ket = normalize(randn(prod(dims)))\n",
    "dirac(ket, dims)"
   ]
  },
  {
   "cell_type": "markdown",
   "metadata": {},
   "source": [
    "Operator\n",
    "\n",
    "$A: V \\rightarrow W$ where $V = \\mathbb{C}^2$ and $W = \\mathbb{C}^3$"
   ]
  },
  {
   "cell_type": "code",
   "execution_count": 10,
   "metadata": {
    "ExecuteTime": {
     "end_time": "2018-09-15T17:14:41.263000+09:00",
     "start_time": "2018-09-15T08:14:36.009Z"
    }
   },
   "outputs": [
    {
     "data": {
      "text/markdown": [
       "$\\hat{\\rho} = 0.0668464|0\\rangle\\langle0|+0.135745|0\\rangle\\langle1|+0.156637|1\\rangle\\langle0|+0.838118|1\\rangle\\langle1|+0.605297|2\\rangle\\langle0|+0.914712|2\\rangle\\langle1|\n",
       "$"
      ]
     },
     "metadata": {},
     "output_type": "display_data"
    }
   ],
   "source": [
    "A = rand(3,2)\n",
    "dirac(A, [3], [2])"
   ]
  },
  {
   "cell_type": "markdown",
   "metadata": {},
   "source": [
    "## Precision"
   ]
  },
  {
   "cell_type": "code",
   "execution_count": 11,
   "metadata": {
    "ExecuteTime": {
     "end_time": "2018-09-15T17:14:41.287000+09:00",
     "start_time": "2018-09-15T08:14:36.013Z"
    }
   },
   "outputs": [],
   "source": [
    "DiracNotation.set_properties(precision=2)"
   ]
  },
  {
   "cell_type": "code",
   "execution_count": 12,
   "metadata": {
    "ExecuteTime": {
     "end_time": "2018-09-15T17:14:41.289000+09:00",
     "start_time": "2018-09-15T08:14:36.015Z"
    }
   },
   "outputs": [
    {
     "data": {
      "text/markdown": [
       "$\\hat{\\rho} = 0.3|0\\rangle\\langle0|+0.12|0\\rangle\\langle1|+0.8|0\\rangle\\langle2|+0.72|1\\rangle\\langle0|+0.77|1\\rangle\\langle1|+0.035|1\\rangle\\langle2|\n",
       "$"
      ]
     },
     "metadata": {},
     "output_type": "display_data"
    }
   ],
   "source": [
    "op = rand(2,3);\n",
    "leftdims = [2];\n",
    "rightdims = [3];\n",
    "dirac(op, leftdims, rightdims)"
   ]
  },
  {
   "cell_type": "markdown",
   "metadata": {},
   "source": [
    "## Disable mathjax"
   ]
  },
  {
   "cell_type": "code",
   "execution_count": 13,
   "metadata": {
    "ExecuteTime": {
     "end_time": "2018-09-15T17:14:41.320000+09:00",
     "start_time": "2018-09-15T08:14:36.018Z"
    }
   },
   "outputs": [],
   "source": [
    "DiracNotation.set_properties(islatex=false)"
   ]
  },
  {
   "cell_type": "code",
   "execution_count": 14,
   "metadata": {
    "ExecuteTime": {
     "end_time": "2018-09-15T17:14:41.545000+09:00",
     "start_time": "2018-09-15T08:14:36.021Z"
    }
   },
   "outputs": [
    {
     "name": "stdout",
     "output_type": "stream",
     "text": [
      "ρ = 0.48|0⟩⟨0|+0.95|0⟩⟨1|+0.12|0⟩⟨2|+0.9|1⟩⟨0|+0.8|1⟩⟨1|+0.11|1⟩⟨2|\n"
     ]
    }
   ],
   "source": [
    "op = rand(2,3);\n",
    "leftdims = [2];\n",
    "rightdims = [3];\n",
    "dirac(op, leftdims, rightdims)"
   ]
  },
  {
   "cell_type": "markdown",
   "metadata": {},
   "source": [
    "## display few terms"
   ]
  },
  {
   "cell_type": "code",
   "execution_count": 15,
   "metadata": {
    "ExecuteTime": {
     "end_time": "2018-09-15T17:14:41.572000+09:00",
     "start_time": "2018-09-15T08:14:36.023Z"
    }
   },
   "outputs": [
    {
     "data": {
      "text/markdown": [
       "$|\\psi\\rangle = 0.065|0\\rangle+0.64|1\\rangle+0.086|2\\rangle+0.69|3\\rangle +...\n",
       "$"
      ]
     },
     "metadata": {},
     "output_type": "display_data"
    }
   ],
   "source": [
    "nterms = 4\n",
    "DiracNotation.set_properties(islatex=true, displayall=false, numhead=nterms)\n",
    "dim = 7\n",
    "ket = normalize(rand(dim))\n",
    "dirac(ket, [dim])"
   ]
  },
  {
   "cell_type": "markdown",
   "metadata": {},
   "source": [
    "## newline"
   ]
  },
  {
   "cell_type": "code",
   "execution_count": 16,
   "metadata": {
    "ExecuteTime": {
     "end_time": "2018-09-15T17:14:41.654000+09:00",
     "start_time": "2018-09-15T08:14:36.026Z"
    }
   },
   "outputs": [
    {
     "name": "stdout",
     "output_type": "stream",
     "text": [
      "ρ = 0.87|0⟩⟨0|+0.59|0⟩⟨1|+0.74|0⟩⟨2|\n",
      "   +0.65|1⟩⟨0|+0.63|1⟩⟨1|+0.55|1⟩⟨2|\n",
      "   "
     ]
    }
   ],
   "source": [
    "# newline is supported when mathjax is disable\n",
    "DiracNotation.set_properties(islatex=false, displayall=true, newline=true)\n",
    "\n",
    "op = rand(2,3);\n",
    "leftdims = [2];\n",
    "rightdims = [3];\n",
    "dirac(op, leftdims, rightdims)"
   ]
  },
  {
   "cell_type": "markdown",
   "metadata": {},
   "source": [
    "## Restore to original setting"
   ]
  },
  {
   "cell_type": "code",
   "execution_count": 17,
   "metadata": {
    "ExecuteTime": {
     "end_time": "2018-09-15T17:14:41.654000+09:00",
     "start_time": "2018-09-15T08:14:36.029Z"
    }
   },
   "outputs": [],
   "source": [
    "Random.seed!(0);"
   ]
  },
  {
   "cell_type": "code",
   "execution_count": 18,
   "metadata": {
    "ExecuteTime": {
     "end_time": "2018-09-15T17:14:41.663000+09:00",
     "start_time": "2018-09-15T08:14:36.033Z"
    }
   },
   "outputs": [],
   "source": [
    "DiracNotation.reset_properties()"
   ]
  },
  {
   "cell_type": "code",
   "execution_count": 19,
   "metadata": {
    "ExecuteTime": {
     "end_time": "2018-09-15T17:14:41.673000+09:00",
     "start_time": "2018-09-15T08:14:36.036Z"
    }
   },
   "outputs": [],
   "source": [
    "ket = normalize(rand(4)); bra = ket';"
   ]
  },
  {
   "cell_type": "code",
   "execution_count": 20,
   "metadata": {
    "ExecuteTime": {
     "end_time": "2018-09-15T17:14:41.692000+09:00",
     "start_time": "2018-09-15T08:14:36.038Z"
    }
   },
   "outputs": [
    {
     "data": {
      "text/markdown": [
       "$|\\psi\\rangle = 0.65825|00\\rangle+0.727547|01\\rangle+0.131519|10\\rangle+0.141719|11\\rangle\n",
       "$"
      ]
     },
     "metadata": {},
     "output_type": "display_data"
    }
   ],
   "source": [
    "dirac(ket)"
   ]
  },
  {
   "cell_type": "code",
   "execution_count": 21,
   "metadata": {
    "ExecuteTime": {
     "end_time": "2018-09-15T17:14:41.886000+09:00",
     "start_time": "2018-09-15T08:14:36.043Z"
    }
   },
   "outputs": [
    {
     "data": {
      "text/markdown": [
       "$\\langle\\psi| = 0.65825\\langle00|+0.727547\\langle01|+0.131519\\langle10|+0.141719\\langle11|\n",
       "$"
      ]
     },
     "metadata": {},
     "output_type": "display_data"
    }
   ],
   "source": [
    "dirac(bra)"
   ]
  },
  {
   "cell_type": "code",
   "execution_count": 22,
   "metadata": {
    "ExecuteTime": {
     "end_time": "2018-09-15T17:14:41.887000+09:00",
     "start_time": "2018-09-15T08:14:36.046Z"
    }
   },
   "outputs": [
    {
     "data": {
      "text/markdown": [
       "$|\\psi\\rangle = 0.65825|00\\rangle+0.727547|01\\rangle+0.131519|10\\rangle+0.141719|11\\rangle\n",
       "$"
      ]
     },
     "metadata": {},
     "output_type": "display_data"
    }
   ],
   "source": [
    "dirac(ket)"
   ]
  },
  {
   "cell_type": "code",
   "execution_count": 23,
   "metadata": {
    "ExecuteTime": {
     "end_time": "2018-09-15T17:14:41.889000+09:00",
     "start_time": "2018-09-15T08:14:36.049Z"
    },
    "scrolled": true
   },
   "outputs": [
    {
     "data": {
      "text/markdown": [
       "$\\hat{\\rho} = 0.27888|0\\rangle\\langle0|+0.0423017|0\\rangle\\langle1|+0.203477|1\\rangle\\langle0|+0.0682693|1\\rangle\\langle1|\n",
       "$"
      ]
     },
     "metadata": {},
     "output_type": "display_data"
    }
   ],
   "source": [
    "op = rand(2,2);\n",
    "dirac(op)"
   ]
  },
  {
   "cell_type": "code",
   "execution_count": 24,
   "metadata": {
    "ExecuteTime": {
     "end_time": "2018-09-15T17:14:41.890000+09:00",
     "start_time": "2018-09-15T08:14:36.051Z"
    }
   },
   "outputs": [
    {
     "data": {
      "text/markdown": [
       "$\\hat{\\rho} = 0.361828|00\\rangle\\langle00|+0.260036|00\\rangle\\langle01|+0.575887|00\\rangle\\langle02|+0.469304|00\\rangle\\langle10|+0.043141|00\\rangle\\langle11|+0.605297|00\\rangle\\langle12|+0.973216|01\\rangle\\langle00|+0.910047|01\\rangle\\langle01|+0.868279|01\\rangle\\langle02|+0.0623676|01\\rangle\\langle10|+0.267985|01\\rangle\\langle11|+0.135745|01\\rangle\\langle12|+0.585812|10\\rangle\\langle00|+0.167036|10\\rangle\\langle01|+0.9678|10\\rangle\\langle02|+0.353129|10\\rangle\\langle10|+0.0668464|10\\rangle\\langle11|+0.838118|10\\rangle\\langle12|+0.539289|11\\rangle\\langle00|+0.655448|11\\rangle\\langle01|+0.76769|11\\rangle\\langle02|+0.767602|11\\rangle\\langle10|+0.156637|11\\rangle\\langle11|+0.914712|11\\rangle\\langle12|\n",
       "$"
      ]
     },
     "metadata": {},
     "output_type": "display_data"
    }
   ],
   "source": [
    "op = rand(4,6);\n",
    "dirac(op, [2,2], [2,3])"
   ]
  },
  {
   "cell_type": "markdown",
   "metadata": {},
   "source": [
    "# QuantumOptics.jl"
   ]
  },
  {
   "cell_type": "code",
   "execution_count": 25,
   "metadata": {},
   "outputs": [],
   "source": [
    "using QuantumOptics"
   ]
  },
  {
   "cell_type": "markdown",
   "metadata": {},
   "source": [
    "## Bra,  Ket and Operator"
   ]
  },
  {
   "cell_type": "code",
   "execution_count": 26,
   "metadata": {},
   "outputs": [
    {
     "data": {
      "text/markdown": [
       "$|\\psi\\rangle = |0\\rangle\n",
       "$"
      ]
     },
     "metadata": {},
     "output_type": "display_data"
    }
   ],
   "source": [
    "b = SpinBasis(1//2)\n",
    "up = spinup(b)\n",
    "dirac(up)"
   ]
  },
  {
   "cell_type": "code",
   "execution_count": 27,
   "metadata": {},
   "outputs": [
    {
     "data": {
      "text/markdown": [
       "$|\\psi\\rangle = |1\\rangle\n",
       "$"
      ]
     },
     "metadata": {},
     "output_type": "display_data"
    }
   ],
   "source": [
    "down = spindown(b)\n",
    "dirac(down)"
   ]
  },
  {
   "cell_type": "code",
   "execution_count": 28,
   "metadata": {},
   "outputs": [
    {
     "data": {
      "text/markdown": [
       "$|\\psi\\rangle = (0.247822+0.419022im)|0\\rangle+(0.564944+0.666215im)|1\\rangle\n",
       "$"
      ]
     },
     "metadata": {},
     "output_type": "display_data"
    }
   ],
   "source": [
    "psi = randstate(b)\n",
    "dirac(psi)"
   ]
  },
  {
   "cell_type": "code",
   "execution_count": 29,
   "metadata": {},
   "outputs": [
    {
     "data": {
      "text/markdown": [
       "$\\langle\\psi| = (0.247822-0.419022im)\\langle0|+(0.564944-0.666215im)\\langle1|\n",
       "$"
      ]
     },
     "metadata": {},
     "output_type": "display_data"
    }
   ],
   "source": [
    "dirac(dagger(psi))"
   ]
  },
  {
   "cell_type": "code",
   "execution_count": 30,
   "metadata": {},
   "outputs": [
    {
     "data": {
      "text/markdown": [
       "$\\rho = 0.236995|0\\rangle\\langle0|+(0.419164+0.0716216im)|0\\rangle\\langle1|+(0.419164-0.0716216im)|1\\rangle\\langle0|+0.763005|1\\rangle\\langle1|\n",
       "$"
      ]
     },
     "metadata": {},
     "output_type": "display_data"
    },
    {
     "name": "stdout",
     "output_type": "stream",
     "text": [
      "A.data = Complex{Float64}[0.236995+0.0im 0.419164+0.0716216im; 0.419164-0.0716216im 0.763005+0.0im]\n"
     ]
    }
   ],
   "source": [
    "A = psi ⊗ dagger(psi); @show A.data\n",
    "dirac(A)"
   ]
  },
  {
   "cell_type": "code",
   "execution_count": 31,
   "metadata": {},
   "outputs": [
    {
     "data": {
      "text/markdown": [
       "$\\rho = 0.0561667|00\\rangle\\langle00|+(0.09934+0.016974im)|00\\rangle\\langle01|+(0.09934+0.016974im)|00\\rangle\\langle10|+(0.170569+0.0600425im)|00\\rangle\\langle11|+(0.09934-0.016974im)|01\\rangle\\langle00|+0.180828|01\\rangle\\langle01|+0.180828|01\\rangle\\langle10|+(0.319824+0.0546476im)|01\\rangle\\langle11|+(0.09934-0.016974im)|10\\rangle\\langle00|+0.180828|10\\rangle\\langle01|+0.180828|10\\rangle\\langle10|+(0.319824+0.0546476im)|10\\rangle\\langle11|+(0.170569-0.0600425im)|11\\rangle\\langle00|+(0.319824-0.0546476im)|11\\rangle\\langle01|+(0.319824-0.0546476im)|11\\rangle\\langle10|+0.582176|11\\rangle\\langle11|\n",
       "$"
      ]
     },
     "metadata": {},
     "output_type": "display_data"
    }
   ],
   "source": [
    "dirac(A ⊗ A)"
   ]
  },
  {
   "cell_type": "markdown",
   "metadata": {},
   "source": [
    "## Composite system\n",
    "\n",
    "Because of QuantumOptics.jl's data structure, the state is displayed reversely.\n",
    "If you define a state as follows\n",
    "\n",
    "```julia\n",
    "state = ψ ⊗ ϕ\n",
    "```\n",
    "the state is displayed as\n",
    "$|\\phi \\psi \\rangle$"
   ]
  },
  {
   "cell_type": "code",
   "execution_count": 32,
   "metadata": {},
   "outputs": [
    {
     "data": {
      "text/markdown": [
       "$|\\psi\\rangle = |10\\rangle\n",
       "$"
      ]
     },
     "metadata": {},
     "output_type": "display_data"
    }
   ],
   "source": [
    "b = SpinBasis(1//2)\n",
    "psi0 = spinup(b)\n",
    "psi1 = spindown(b)\n",
    "dirac(psi0 ⊗ psi1)"
   ]
  },
  {
   "cell_type": "code",
   "execution_count": 33,
   "metadata": {},
   "outputs": [
    {
     "data": {
      "text/markdown": [
       "$|\\psi\\rangle = |01\\rangle\n",
       "$"
      ]
     },
     "metadata": {},
     "output_type": "display_data"
    }
   ],
   "source": [
    "dirac(psi1 ⊗ psi0)"
   ]
  }
 ],
 "metadata": {
  "kernelspec": {
   "display_name": "Julia 1.0.0",
   "language": "julia",
   "name": "julia-1.0"
  },
  "language_info": {
   "file_extension": ".jl",
   "mimetype": "application/julia",
   "name": "julia",
   "version": "1.0.0"
  },
  "toc": {
   "nav_menu": {},
   "number_sections": true,
   "sideBar": true,
   "skip_h1_title": false,
   "toc_cell": true,
   "toc_position": {},
   "toc_section_display": "block",
   "toc_window_display": true
  }
 },
 "nbformat": 4,
 "nbformat_minor": 2
}
